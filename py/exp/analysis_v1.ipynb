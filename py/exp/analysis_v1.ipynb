{
 "cells": [
  {
   "cell_type": "code",
   "execution_count": 17,
   "metadata": {},
   "outputs": [],
   "source": [
    "from analysis_helpers import analyze_lentency, analyze_throughtput ,analyze_message_flow , analyze_full_queue_sizes , analyze_message_time_taken_in_state , analyze_message_time_taken_with_time , analyze_task_logs"
   ]
  },
  {
   "cell_type": "code",
   "execution_count": 18,
   "metadata": {},
   "outputs": [
    {
     "data": {
      "text/plain": [
       "['/usr/local/google/home/hrushikeshm/Desktop/x-kokua/sightRepo/py/exp',\n",
       " '/usr/local/google/home/hrushikeshm/Desktop/x-kokua/sightRepo/py/helpers',\n",
       " '/usr/local/google/home/hrushikeshm/Desktop/x-kokua/sightRepo/py',\n",
       " '/usr/local/google/home/hrushikeshm/Desktop/x-kokua/sightRepo',\n",
       " '/usr/local/google/home/hrushikeshm/Desktop/x-kokua',\n",
       " '/usr/local/buildtools/current/sitecustomize',\n",
       " '/usr/local/google/home/hrushikeshm/.pyenv/versions/3.10.0/lib/python310.zip',\n",
       " '/usr/local/google/home/hrushikeshm/.pyenv/versions/3.10.0/lib/python3.10',\n",
       " '/usr/local/google/home/hrushikeshm/.pyenv/versions/3.10.0/lib/python3.10/lib-dynload',\n",
       " '',\n",
       " '/usr/local/google/home/hrushikeshm/Desktop/x-kokua/.venv/lib/python3.10/site-packages',\n",
       " '/usr/local/google/home/hrushikeshm/Desktop/x-kokua/sightRepo',\n",
       " '/usr/local/google/home/hrushikeshm/Desktop/x-kokua/sightRepo/py/',\n",
       " '/usr/local/google/home/hrushikeshm/Desktop/x-kokua/sightRepo',\n",
       " '/usr/local/google/home/hrushikeshm/Desktop/x-kokua/sightRepo/py/']"
      ]
     },
     "execution_count": 18,
     "metadata": {},
     "output_type": "execute_result"
    }
   ],
   "source": [
    "import sys\n",
    "sys.path"
   ]
  },
  {
   "cell_type": "code",
   "execution_count": 19,
   "metadata": {},
   "outputs": [],
   "source": [
    "\n",
    "sys.path.append('/usr/local/google/home/hrushikeshm/Desktop/x-kokua/sightRepo')\n",
    "sys.path.append('/usr/local/google/home/hrushikeshm/Desktop/x-kokua/sightRepo/py/')"
   ]
  },
  {
   "cell_type": "code",
   "execution_count": 20,
   "metadata": {},
   "outputs": [
    {
     "data": {
      "text/plain": [
       "['/usr/local/google/home/hrushikeshm/Desktop/x-kokua/sightRepo/py/exp',\n",
       " '/usr/local/google/home/hrushikeshm/Desktop/x-kokua/sightRepo/py/helpers',\n",
       " '/usr/local/google/home/hrushikeshm/Desktop/x-kokua/sightRepo/py',\n",
       " '/usr/local/google/home/hrushikeshm/Desktop/x-kokua/sightRepo',\n",
       " '/usr/local/google/home/hrushikeshm/Desktop/x-kokua',\n",
       " '/usr/local/buildtools/current/sitecustomize',\n",
       " '/usr/local/google/home/hrushikeshm/.pyenv/versions/3.10.0/lib/python310.zip',\n",
       " '/usr/local/google/home/hrushikeshm/.pyenv/versions/3.10.0/lib/python3.10',\n",
       " '/usr/local/google/home/hrushikeshm/.pyenv/versions/3.10.0/lib/python3.10/lib-dynload',\n",
       " '',\n",
       " '/usr/local/google/home/hrushikeshm/Desktop/x-kokua/.venv/lib/python3.10/site-packages',\n",
       " '/usr/local/google/home/hrushikeshm/Desktop/x-kokua/sightRepo',\n",
       " '/usr/local/google/home/hrushikeshm/Desktop/x-kokua/sightRepo/py/',\n",
       " '/usr/local/google/home/hrushikeshm/Desktop/x-kokua/sightRepo',\n",
       " '/usr/local/google/home/hrushikeshm/Desktop/x-kokua/sightRepo/py/',\n",
       " '/usr/local/google/home/hrushikeshm/Desktop/x-kokua/sightRepo',\n",
       " '/usr/local/google/home/hrushikeshm/Desktop/x-kokua/sightRepo/py/']"
      ]
     },
     "execution_count": 20,
     "metadata": {},
     "output_type": "execute_result"
    }
   ],
   "source": [
    "sys.path"
   ]
  },
  {
   "cell_type": "code",
   "execution_count": 21,
   "metadata": {},
   "outputs": [],
   "source": [
    "from sight_service.message_queue.message_logger.log_storage_collect import CachedBasedLogStorageCollectStrategy"
   ]
  },
  {
   "cell_type": "code",
   "execution_count": 22,
   "metadata": {},
   "outputs": [],
   "source": [
    "def get_all_logs(dir_prefix : str ):\n",
    "  logger_collector = CachedBasedLogStorageCollectStrategy(cache_type='gcs', config={\n",
    "          \"gcs_base_dir\": \"sight_mq_logs_for_analysis\",\n",
    "          \"gcs_bucket\": \"cameltrain-sight\",\n",
    "          \"dir_prefix\": dir_prefix\n",
    "      })  \n",
    "  return logger_collector.collect_logs()"
   ]
  },
  {
   "cell_type": "code",
   "execution_count": 25,
   "metadata": {},
   "outputs": [
    {
     "name": "stdout",
     "output_type": "stream",
     "text": [
      "20000 tasks 200 workers batch-size 10 with time_taken  , total logs => 60000\n",
      "First Active Timestamp: 2025-02-21 21:32:45\n",
      "Last Completed Timestamp: 2025-02-21 21:36:47\n",
      "Total Time Taken: 242.14 seconds\n",
      "Ideal Time Taken (based on 2s per task with 200 workers): 200.00 seconds\n",
      "System Efficiency: 82.60%\n",
      "------------------------------\n",
      "\n",
      "\n",
      "20000 tasks 200 workers batch-size 10 with time_taken  , total logs => 60000\n",
      "First Active Timestamp: 2025-02-22 10:05:00\n",
      "Last Completed Timestamp: 2025-02-22 10:10:08\n",
      "Total Time Taken: 308.33 seconds\n",
      "Ideal Time Taken (based on 2s per task with 200 workers): 200.00 seconds\n",
      "System Efficiency: 64.87%\n",
      "------------------------------\n",
      "\n",
      "\n"
     ]
    }
   ],
   "source": [
    "exps = [\n",
    "  # ('100 tasks , 1 worker batch size 5', 'log_chunks_2025-01-27_11-10-33'),   # worked\n",
    "  # ('1250 tasks , 50 workers batch-size 5','log_chunks_2025-01-27_11-57-17'), # failed didn't work\n",
    "  # ('1000 tasks 25 workers batch-size 10','log_chunks_2025-01-27_13-11-10'), # failed didn't work\n",
    "  # ('500 tasks 5 workers batch-size 10','log_chunks_2025-01-27_17-25-12'), # worked with less workers\n",
    "  # ('1000 tasks 5 workers batch-size 10','log_chunks_2025-01-27_18-02-02'), #  worked with less workers\n",
    "  # ('1000 tasks 10 workers batch-size 10','log_chunks_2025-01-27_20-03-31'), # worked with less workers\n",
    "  # ('1000 tasks 15 workers batch-size 10','log_chunks_2025-01-28_06-37-21'), # worked with less workers\n",
    "  # ('1000 tasks 20 workers batch-size 10','log_chunks_2025-01-28_06-11-33'), # failed didn't work\n",
    "  \n",
    "  \n",
    "  #  added the exponential backoff on grpc server (previous : no retry even once) and worker_alive (previous ping the server every 5s)\n",
    "  # ('1500 tasks 20 workers batch-size 10','log_chunks_2025-01-29_09-42-58'),      # worked\n",
    "  # ('5000 tasks 25 workers batch-size 25','log_chunks_2025-01-29_10-21-27'),      # didn't work\n",
    "  # ('2000 tasks 25 workers batch-size 25','log_chunks_2025-01-29_11-06-36'),      # worked\n",
    "  # ('4000 tasks 25 workers batch-size 25','log_chunks_2025-01-29_11-40-48'),      # worked\n",
    "  # ('5000 tasks 25 workers batch-size 25','log_chunks_2025-01-29_13-23-18'),      # didn't work\n",
    "  # ('5000 tasks 30 workers batch-size 25','log_chunks_2025-01-29_14-02-33'),      # didn't work\n",
    "  \n",
    "  # ('5000 tasks 30 workers batch-size 10 with time_taken','log_chunks_2025-02-03_10-40-24'),   # didn't work\n",
    "  # ('10000 tasks 50 workers batch-size 10 with time_taken','log_chunks_2025-02-03_17-04-33'),  #didn't work\n",
    "  # ('10000 tasks 50 workers batch-size 10 with time_taken','log_chunks_2025-02-04_06-44-50'),  #didn't work\n",
    "  # ('4000 tasks 10 workers batch-size 5 with time_taken','log_chunks_2025-02-04_12-11-25'),  #didn't work\n",
    "    # ('10000 tasks 50 workers batch-size 25 with time_taken','log_chunks_2025-02-04_06-44-50'),  #didn't work\n",
    "  # ('10 tasks 1 workers batch-size 5 ','log_chunks_2025-01-30_20-51-42')\n",
    "  \n",
    "  \n",
    "  \n",
    "  # after lock issue corrected\n",
    "  \n",
    "  # ('6000 tasks 25 workers batch-size 5 with time_taken','log_chunks_2025-02-20_20-06-31')\n",
    "  # ('6000 tasks 25 workers batch-size 5 with time_taken','log_chunks_2025-02-21_06-11-40'),\n",
    "  # ('20000 tasks 200 workers batch-size 1 with time_taken','log_chunks_2025-02-21_20-28-27', { \"ideal_task_time\":2 , \"total_tasks\":20_000 , \"workers\":200 }),\n",
    "  # ('20000 tasks 100 workers batch-size 5 with time_taken','log_chunks_2025-02-21_07-21-29', { \"ideal_task_time\":8 , \"total_tasks\":20_000 , \"workers\":100 }),\n",
    "  ('20000 tasks 200 workers batch-size 10 with time_taken ','log_chunks_2025-02-21_21-26-26' , { \"ideal_task_time\":2 , \"total_tasks\":20_000 , \"workers\":200 }),\n",
    "  # ('20000 tasks 200 workers batch-size 25 with time_taken ','log_chunks_2025-02-22_09-00-52' , { \"ideal_task_time\":2 , \"total_tasks\":20_000 , \"workers\":200 }),\n",
    "  ('20000 tasks 200 workers batch-size 10 with time_taken ','log_chunks_2025-02-22_09-58-43' , { \"ideal_task_time\":2 , \"total_tasks\":20_000 , \"workers\":200 })\n",
    "\n",
    "\n",
    "]\n",
    "\n",
    "\n",
    "\n",
    "for (desc,chunk_prefix ,config) in exps:\n",
    "  logsx = get_all_logs(dir_prefix = chunk_prefix)\n",
    "  print(f\"{desc} , total logs => {len(logsx)}\")\n",
    "  if config :\n",
    "    analyze_task_logs(logsx, config )\n",
    "  # analyze_message_flow(logsx,desc)\n",
    "  # analyze_lentency(logsx,desc)\n",
    "  # analyze_throughtput(logsx,desc)\n",
    "  # analyze_full_queue_sizes(logsx,desc)\n",
    "  # if \"time_taken\" in desc:\n",
    "  #   analyze_message_time_taken_with_time(logsx,desc)\n",
    "  #   analyze_message_time_taken_in_state(logsx,desc)"
   ]
  },
  {
   "cell_type": "markdown",
   "metadata": {},
   "source": []
  }
 ],
 "metadata": {
  "kernelspec": {
   "display_name": ".venv",
   "language": "python",
   "name": "python3"
  },
  "language_info": {
   "codemirror_mode": {
    "name": "ipython",
    "version": 3
   },
   "file_extension": ".py",
   "mimetype": "text/x-python",
   "name": "python",
   "nbconvert_exporter": "python",
   "pygments_lexer": "ipython3",
   "version": "3.10.0"
  }
 },
 "nbformat": 4,
 "nbformat_minor": 4
}
